{
  "nbformat": 4,
  "nbformat_minor": 0,
  "metadata": {
    "colab": {
      "provenance": []
    },
    "kernelspec": {
      "name": "python3",
      "display_name": "Python 3"
    },
    "language_info": {
      "name": "python"
    }
  },
  "cells": [
    {
      "cell_type": "code",
      "execution_count": null,
      "metadata": {
        "id": "sRl78JjOliuD"
      },
      "outputs": [],
      "source": [
        "%load_ext sql"
      ]
    },
    {
      "cell_type": "code",
      "source": [
        "!pip install ipython-sql==0.4.1"
      ],
      "metadata": {
        "id": "GWKrBDi6llu9"
      },
      "execution_count": null,
      "outputs": []
    },
    {
      "cell_type": "code",
      "source": [
        "!pip install SQLAlchemy==1.4.49"
      ],
      "metadata": {
        "id": "w29rIqeYl2Z4"
      },
      "execution_count": null,
      "outputs": []
    },
    {
      "cell_type": "code",
      "source": [
        "%sql postgresql://*****@kor-financial-market-workgroup.851725544098.ap-northeast-2.redshift-serverless.amazonaws.com:5439/dev"
      ],
      "metadata": {
        "id": "qqZfdbGYlrE6"
      },
      "execution_count": null,
      "outputs": []
    },
    {
      "cell_type": "markdown",
      "source": [
        "# 스키마 생성"
      ],
      "metadata": {
        "id": "JpmPzQud0t8Z"
      }
    },
    {
      "cell_type": "code",
      "source": [
        "%%sql\n",
        "\n",
        "CREATE SCHEMA raw_data;"
      ],
      "metadata": {
        "id": "e9U2RZMmlrtg"
      },
      "execution_count": null,
      "outputs": []
    },
    {
      "cell_type": "markdown",
      "source": [
        "# 테이블 생성"
      ],
      "metadata": {
        "id": "hPxNelYy01GA"
      }
    },
    {
      "cell_type": "code",
      "source": [
        "%%sql\n",
        "\n",
        "CREATE TABLE raw_data.fce_by_all_purpose (\n",
        "    STAT_CODE VARCHAR(10),\n",
        "    STAT_NAME VARCHAR(255),\n",
        "    ITEM_CODE1 INT,\n",
        "    ITEM_NAME1 VARCHAR(255),\n",
        "    ITEM_CODE2 INT,\n",
        "    ITEM_NAME2 VARCHAR(255),\n",
        "    ITEM_CODE3 INT,\n",
        "    ITEM_NAME3 VARCHAR(255),\n",
        "    ITEM_CODE4 INT,\n",
        "    ITEM_NAME4 VARCHAR(255),\n",
        "    UNIT_NAME VARCHAR(50),\n",
        "    WGT FLOAT,\n",
        "    TIME INT,\n",
        "    DATA_VALUE FLOAT\n",
        ");"
      ],
      "metadata": {
        "id": "AUExDj3Mm9zj"
      },
      "execution_count": null,
      "outputs": []
    },
    {
      "cell_type": "code",
      "source": [
        "%%sql\n",
        "\n",
        "DROP TABLE IF EXISTS public.won_us_trading_base_rate;\n",
        "CREATE TABLE raw_data.won_us_trading_base_rate (\n",
        "    STAT_CODE VARCHAR(10),\n",
        "    STAT_NAME VARCHAR(100),\n",
        "    ITEM_CODE1 INT,\n",
        "    ITEM_NAME1 VARCHAR(100),\n",
        "    ITEM_CODE2 FLOAT,\n",
        "    ITEM_NAME2 FLOAT,\n",
        "    ITEM_CODE3 FLOAT,\n",
        "    ITEM_NAME3 FLOAT,\n",
        "    ITEM_CODE4 FLOAT,\n",
        "    ITEM_NAME4 FLOAT,\n",
        "    UNIT_NAME VARCHAR(10),\n",
        "    WGT FLOAT,\n",
        "    TIME INT,\n",
        "    DATA_VALUE FLOAT\n",
        ");"
      ],
      "metadata": {
        "id": "h3e5FfA8AK3i"
      },
      "execution_count": null,
      "outputs": []
    },
    {
      "cell_type": "code",
      "source": [
        "%%sql\n",
        "\n",
        "DROP TABLE IF EXISTS public.consumer_price_index;\n",
        "CREATE TABLE raw_data.consumer_price_index (\n",
        "    STAT_CODE VARCHAR(20),\n",
        "    STAT_NAME VARCHAR(255),\n",
        "    ITEM_CODE1 VARCHAR(20),\n",
        "    ITEM_NAME1 VARCHAR(255),\n",
        "    ITEM_CODE2 VARCHAR(20),\n",
        "    ITEM_NAME2 VARCHAR(255),\n",
        "    ITEM_CODE3 VARCHAR(20),\n",
        "    ITEM_NAME3 VARCHAR(255),\n",
        "    ITEM_CODE4 VARCHAR(20),\n",
        "    ITEM_NAME4 VARCHAR(255),\n",
        "    UNIT_NAME VARCHAR(50),\n",
        "    WGT NUMERIC,\n",
        "    TIME INTEGER,\n",
        "    DATA_VALUE NUMERIC\n",
        ");\n"
      ],
      "metadata": {
        "id": "AW6xz9C40dgd"
      },
      "execution_count": null,
      "outputs": []
    },
    {
      "cell_type": "markdown",
      "source": [
        "# 테이블 스키마 확인"
      ],
      "metadata": {
        "id": "ynKADRyz05br"
      }
    },
    {
      "cell_type": "code",
      "source": [
        "%%sql\n",
        "\n",
        "select * from pg_namespace;"
      ],
      "metadata": {
        "id": "oH7LiMW7nZ7U"
      },
      "execution_count": null,
      "outputs": []
    },
    {
      "cell_type": "code",
      "source": [
        "%%sql\n",
        "\n",
        "select * from pg_tables where schemaname = 'raw_data' order by tablename;"
      ],
      "metadata": {
        "id": "X5h27wlplkJG"
      },
      "execution_count": null,
      "outputs": []
    },
    {
      "cell_type": "code",
      "source": [
        "%%sql\n",
        "\n",
        "SELECT * FROM information_schema.columns WHERE table_name LIKE '%fce%';"
      ],
      "metadata": {
        "id": "Kyi2v7SDnz7S"
      },
      "execution_count": null,
      "outputs": []
    },
    {
      "cell_type": "code",
      "source": [
        "%%sql\n",
        "\n",
        "SELECT * FROM information_schema.columns WHERE table_name LIKE '%consumer%';"
      ],
      "metadata": {
        "id": "a4P_1UOt0CRy"
      },
      "execution_count": null,
      "outputs": []
    },
    {
      "cell_type": "code",
      "source": [
        "%%sql\n",
        "\n",
        "SELECT * FROM information_schema.columns WHERE table_name LIKE '%won%';"
      ],
      "metadata": {
        "id": "mCvgMSUV0ZXj"
      },
      "execution_count": null,
      "outputs": []
    },
    {
      "cell_type": "markdown",
      "source": [
        "# S3 to Redshift 적재"
      ],
      "metadata": {
        "id": "u38USEMv1JvQ"
      }
    },
    {
      "cell_type": "code",
      "source": [
        "%%sql\n",
        "\n",
        "copy raw_data.fce_by_all_purpose\n",
        "from 's3://kor-financial-market/final_consumption_expenditure/fce_by_all_purpose.csv'\n",
        "credentials 'aws_iam_role=arn:aws:iam::851725544098:role/redshift.read.s3'\n",
        "delimiter ',' dateformat 'auto' timeformat 'auto' IGNOREHEADER 1 removequotes;"
      ],
      "metadata": {
        "id": "kNi6wG6kmCOO"
      },
      "execution_count": null,
      "outputs": []
    },
    {
      "cell_type": "code",
      "source": [
        "%%sql\n",
        "\n",
        "copy raw_data.won_us_trading_base_rate\n",
        "from 's3://kor-financial-market/final_consumption_expenditure/won_us_trading_base_rate.csv'\n",
        "credentials 'aws_iam_role=arn:aws:iam::851725544098:role/redshift.read.s3'\n",
        "delimiter ',' dateformat 'auto' timeformat 'auto' IGNOREHEADER 1 removequotes;"
      ],
      "metadata": {
        "id": "BVuUgyDw0T7Y"
      },
      "execution_count": null,
      "outputs": []
    },
    {
      "cell_type": "code",
      "source": [
        "%%sql\n",
        "\n",
        "copy raw_data.consumer_price_index\n",
        "from 's3://kor-financial-market/final_consumption_expenditure/consumer_price_index.csv'\n",
        "credentials 'aws_iam_role=arn:aws:iam::851725544098:role/redshift.read.s3'\n",
        "delimiter ',' dateformat 'auto' timeformat 'auto' IGNOREHEADER 1 removequotes;"
      ],
      "metadata": {
        "id": "IVmR1UpKzWPN"
      },
      "execution_count": null,
      "outputs": []
    },
    {
      "cell_type": "code",
      "source": [
        "%%sql\n",
        "\n",
        "SELECT * FROM sys_load_error_detail order by start_time desc;"
      ],
      "metadata": {
        "id": "C74-ug2Tif9M"
      },
      "execution_count": null,
      "outputs": []
    },
    {
      "cell_type": "code",
      "source": [
        "%%sql\n",
        "\n",
        "select * from raw_data.won_us_trading_base_rate order by TIME desc limit 10;"
      ],
      "metadata": {
        "id": "imI6_GpcsZOE"
      },
      "execution_count": null,
      "outputs": []
    },
    {
      "cell_type": "markdown",
      "source": [
        "# 가공 테이블 생성"
      ],
      "metadata": {
        "id": "mbkCM0--1UJ1"
      }
    },
    {
      "cell_type": "code",
      "source": [
        "%%sql\n",
        "\n",
        "ALTER TABLE raw_data.won_us_trading_base_rate ADD COLUMN charge_value NUMERIC;"
      ],
      "metadata": {
        "id": "jK3VPYjK3uYD"
      },
      "execution_count": null,
      "outputs": []
    },
    {
      "cell_type": "code",
      "source": [
        "%%sql\n",
        "\n",
        "WITH cte AS (\n",
        "    SELECT\n",
        "        *,\n",
        "        LAG(DATA_VALUE) OVER (ORDER BY TIME) AS prev_data_value\n",
        "    FROM\n",
        "        raw_data.won_us_trading_base_rate\n",
        ")\n",
        "UPDATE raw_data.won_us_trading_base_rate\n",
        "SET charge_value = COALESCE(cte.DATA_VALUE - cte.prev_data_value, 0)\n",
        "FROM cte\n",
        "WHERE raw_data.won_us_trading_base_rate.TIME = cte.TIME\n",
        "  AND raw_data.won_us_trading_base_rate.STAT_CODE = cte.STAT_CODE;"
      ],
      "metadata": {
        "id": "j95jEvVh3xjs"
      },
      "execution_count": null,
      "outputs": []
    },
    {
      "cell_type": "code",
      "source": [
        "%%sql\n",
        "\n",
        "CREATE TABLE analytics_data.correlation_results AS\n",
        "WITH combined_data AS (\n",
        "    SELECT\n",
        "        a.ITEM_NAME1 AS item1,\n",
        "        b.ITEM_NAME1 AS item2,\n",
        "        a.TIME,\n",
        "        a.DATA_VALUE AS value1,\n",
        "        b.DATA_VALUE AS value2\n",
        "    FROM\n",
        "        raw_data.fce_by_all_purpose a\n",
        "    JOIN\n",
        "        raw_data.consumer_price_index b\n",
        "    ON\n",
        "        a.TIME = b.TIME\n",
        ")\n",
        "SELECT\n",
        "    item1,\n",
        "    item2,\n",
        "    CORR(value1, value2) AS correlation_coefficient\n",
        "FROM\n",
        "    combined_data\n",
        "GROUP BY\n",
        "    item1, item2\n",
        "ORDER BY\n",
        "    item1, item2;\n"
      ],
      "metadata": {
        "id": "5rSMuU3Y2ZUb"
      },
      "execution_count": null,
      "outputs": []
    }
  ]
}